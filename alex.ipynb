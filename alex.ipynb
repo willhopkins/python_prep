{
 "cells": [
  {
   "cell_type": "code",
   "execution_count": 1,
   "id": "450e119e-37fb-4ae6-8a47-6ec6bfb50eaf",
   "metadata": {},
   "outputs": [],
   "source": [
    "import sqlite3\n",
    "from dataclasses import dataclass\n",
    "\n",
    "@dataclass\n",
    "class Customer():\n",
    "    \"\"\"Class for keeping track of customer details.\"\"\"\n",
    "    id: int\n",
    "    name: str\n",
    "    acv: float\n",
    "\n",
    "\n",
    "class Repository():\n",
    "    \"\"\"Class for connecting to and interfacing with a sqlite database.\"\"\"\n",
    "    def __init__(self, path):\n",
    "        self.path = path\n",
    "        self.con = sqlite3.connect(self.path)\n",
    "        self.cur = self.con.cursor()\n",
    "        self.cur.execute('''CREATE TABLE IF NOT EXISTS Customers\n",
    "                            (id INTEGER PRIMARY KEY, name TEXT, acv NUMERIC)''')\n",
    "    \n",
    "    \n",
    "    def get(self, customer):\n",
    "        for row in self.cur.execute(\"SELECT * FROM Customers WHERE id=:id LIMIT 1\", {\"id\": customer.id}):\n",
    "            print(type(row))\n",
    "            return row\n",
    "    \n",
    "    \n",
    "    def add(self, customer):\n",
    "        self.cur.execute(\"INSERT INTO Customers (id, name, acv) Values (?, ?, ?)\", (customer.id, customer.name, customer.acv))\n",
    "        self.con.commit()\n",
    "    \n",
    "    \n",
    "    def update(self, customer):\n",
    "        self.cur.execute('''UPDATE Customers SET name = ?, acv = ? WHERE id = ?''', (customer.name, customer.acv, customer.id))\n",
    "        self.con.commit()\n",
    "    \n",
    "\n",
    "    def search(self, search_term):\n",
    "        \"\"\"Using a generator, yield the customer(s) that match a given search term.\"\"\"\n",
    "        for row in self.cur.execute('''SELECT * FROM Customers WHERE name = ?''', [search_term]):\n",
    "            yield row"
   ]
  },
  {
   "cell_type": "code",
   "execution_count": 2,
   "id": "39736b22-497a-43c1-9d8b-9060654990bf",
   "metadata": {},
   "outputs": [],
   "source": [
    "myCustomer1 = Customer(1, 'Amazon', 10000)\n",
    "myRepo = Repository(':memory:')"
   ]
  },
  {
   "cell_type": "code",
   "execution_count": 3,
   "id": "d3a00bda-e315-43b9-8c76-b4a4dffc0074",
   "metadata": {},
   "outputs": [],
   "source": [
    "myRepo.add(myCustomer1)"
   ]
  },
  {
   "cell_type": "code",
   "execution_count": 4,
   "id": "eb244ffb-d952-4e33-96bc-004ef8c9a730",
   "metadata": {},
   "outputs": [
    {
     "name": "stdout",
     "output_type": "stream",
     "text": [
      "<class 'tuple'>\n"
     ]
    },
    {
     "data": {
      "text/plain": [
       "(1, 'Amazon', 10000)"
      ]
     },
     "execution_count": 4,
     "metadata": {},
     "output_type": "execute_result"
    }
   ],
   "source": [
    "myRepo.get(myCustomer1)"
   ]
  },
  {
   "cell_type": "code",
   "execution_count": 5,
   "id": "1aaff163-7a35-4513-852f-c411afcbb83e",
   "metadata": {},
   "outputs": [
    {
     "name": "stdout",
     "output_type": "stream",
     "text": [
      "<class 'tuple'>\n"
     ]
    },
    {
     "data": {
      "text/plain": [
       "(1, 'Amazon', 20000)"
      ]
     },
     "execution_count": 5,
     "metadata": {},
     "output_type": "execute_result"
    }
   ],
   "source": [
    "myCustomer1.acv = 20000\n",
    "myRepo.update(myCustomer1)\n",
    "myRepo.get(myCustomer1)"
   ]
  },
  {
   "cell_type": "code",
   "execution_count": 6,
   "id": "355efc78-2aca-4d99-8a7a-6988f506cbe5",
   "metadata": {},
   "outputs": [
    {
     "name": "stdout",
     "output_type": "stream",
     "text": [
      "(1, 'Amazon', 20000)\n"
     ]
    }
   ],
   "source": [
    "myCustomer2 = Customer(2, 'Apple', 20000)\n",
    "myCustomer3 = Customer(3, 'Snapple', 30000)\n",
    "myRepo.add(myCustomer2)\n",
    "myRepo.add(myCustomer3)\n",
    "for customer in myRepo.search('Amazon'):\n",
    "    print(customer)"
   ]
  }
 ],
 "metadata": {
  "kernelspec": {
   "display_name": "Python 3 (ipykernel)",
   "language": "python",
   "name": "python3"
  },
  "language_info": {
   "codemirror_mode": {
    "name": "ipython",
    "version": 3
   },
   "file_extension": ".py",
   "mimetype": "text/x-python",
   "name": "python",
   "nbconvert_exporter": "python",
   "pygments_lexer": "ipython3",
   "version": "3.9.5"
  }
 },
 "nbformat": 4,
 "nbformat_minor": 5
}
